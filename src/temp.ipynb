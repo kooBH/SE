{
 "cells": [
  {
   "cell_type": "code",
   "execution_count": 94,
   "id": "2c11f59a-28ae-4692-88f5-6ac24fc25510",
   "metadata": {},
   "outputs": [
    {
     "name": "stdout",
     "output_type": "stream",
     "text": [
      "The autoreload extension is already loaded. To reload it, use:\n",
      "  %reload_ext autoreload\n"
     ]
    }
   ],
   "source": [
    "import torch\n",
    "import torch.nn as nn\n",
    "import torch.nn.functional as F\n",
    "\n",
    "%load_ext autoreload\n",
    "%autoreload 2"
   ]
  },
  {
   "cell_type": "code",
   "execution_count": 102,
   "id": "200d3a27-2a05-4b1e-a0dc-e2ca3242ce8a",
   "metadata": {},
   "outputs": [
    {
     "name": "stdout",
     "output_type": "stream",
     "text": [
      "torch.Size([2, 1, 896]) 7.0\n",
      "enc 0 : z torch.Size([2, 1, 256, 5])\n",
      "enc 1 : z torch.Size([2, 64, 128, 5])\n",
      "enc 2 : z torch.Size([2, 96, 64, 5])\n",
      "dec 0 : z torch.Size([2, 128, 32, 5]) : skiptorch.Size([2, 128, 32, 5])\n",
      "dec 1 : z torch.Size([2, 96, 64, 5]) : skiptorch.Size([2, 96, 64, 5])\n",
      "dec 2 : z torch.Size([2, 64, 128, 5]) : skiptorch.Size([2, 64, 128, 5])\n",
      "torch.Size([2, 1, 256, 5])\n",
      "torch.Size([2, 256, 5])\n",
      "torch.Size([2, 1, 640]) 5.0\n"
     ]
    }
   ],
   "source": [
    "from mpSE.CUNet import CUNet_helper,CUNet\n",
    "\n",
    "#m = CUNet_helper()\n",
    "m = CUNet()\n",
    "L = 128*5\n",
    "x = torch.rand(2,1,L)\n",
    "x = F.pad(x,(256,0,0,0,0,0))\n",
    "print(x.shape, x.shape[-1]/128)\n",
    "y = m(x)\n",
    "print(y.shape, y.shape[-1]/128)"
   ]
  },
  {
   "cell_type": "code",
   "execution_count": 103,
   "id": "0d76fc33-dd75-43ef-82dd-ef8be664322b",
   "metadata": {},
   "outputs": [
    {
     "data": {
      "text/plain": [
       "False"
      ]
     },
     "execution_count": 103,
     "metadata": {},
     "output_type": "execute_result"
    }
   ],
   "source": [
    "torch._C._is_tracing()"
   ]
  },
  {
   "cell_type": "code",
   "execution_count": null,
   "id": "5ae551ff-2ff8-450b-9061-2f899065c9f6",
   "metadata": {},
   "outputs": [],
   "source": []
  }
 ],
 "metadata": {
  "kernelspec": {
   "display_name": "Python 3 (ipykernel)",
   "language": "python",
   "name": "python3"
  },
  "language_info": {
   "codemirror_mode": {
    "name": "ipython",
    "version": 3
   },
   "file_extension": ".py",
   "mimetype": "text/x-python",
   "name": "python",
   "nbconvert_exporter": "python",
   "pygments_lexer": "ipython3",
   "version": "3.10.14"
  }
 },
 "nbformat": 4,
 "nbformat_minor": 5
}
