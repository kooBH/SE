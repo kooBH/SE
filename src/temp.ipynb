{
 "cells": [
  {
   "cell_type": "code",
   "execution_count": null,
   "id": "03fa8b42-df9d-4af0-a1ae-2ff574a84f4d",
   "metadata": {},
   "outputs": [],
   "source": [
    "def eval_DNSMOS(dir_in,csv_out,sr):\n",
    "    models = glob.glob(os.path.join(dir_in, \"*\"))\n",
    "    audio_clips_list = []\n",
    "\n",
    "    primary_model_path = os.path.join(\"src\",'DNSMOS', 'sig_bak_ovr.onnx')\n",
    "\n",
    "    compute_score = ComputeScore(primary_model_path,sr)\n",
    "\n",
    "    rows = []\n",
    "    clips = []\n",
    "    clips = glob.glob(os.path.join(dir_in, \"*.wav\"))\n",
    "    for m in tqdm(models):\n",
    "        max_recursion_depth = 10\n",
    "        audio_path = os.path.join(dir_in, m)\n",
    "        audio_clips_list = glob.glob(os.path.join(audio_path, \"*.wav\"))\n",
    "        while len(audio_clips_list) == 0 and max_recursion_depth > 0:\n",
    "            audio_path = os.path.join(audio_path, \"**\")\n",
    "            audio_clips_list = glob.glob(os.path.join(audio_path, \"*.wav\"))\n",
    "            max_recursion_depth -= 1\n",
    "        clips.extend(audio_clips_list)\n",
    "\n",
    "    with concurrent.futures.ThreadPoolExecutor() as executor:\n",
    "        future_to_url = {executor.submit(compute_score, clip): clip for clip in clips}\n",
    "        for future in tqdm(concurrent.futures.as_completed(future_to_url)):\n",
    "            clip = future_to_url[future]\n",
    "            try:\n",
    "                data = future.result()\n",
    "            except Exception as exc:\n",
    "                print('%r generated an exception: %s' % (clip, exc))\n",
    "            else:\n",
    "                rows.append(data)            \n",
    "\n",
    "    df = pd.DataFrame(rows)\n",
    "    csv_path = csv_out\n",
    "    df.to_csv(csv_path)"
   ]
  }
 ],
 "metadata": {
  "kernelspec": {
   "display_name": "Python 3 (ipykernel)",
   "language": "python",
   "name": "python3"
  },
  "language_info": {
   "codemirror_mode": {
    "name": "ipython",
    "version": 3
   },
   "file_extension": ".py",
   "mimetype": "text/x-python",
   "name": "python",
   "nbconvert_exporter": "python",
   "pygments_lexer": "ipython3",
   "version": "3.9.12"
  }
 },
 "nbformat": 4,
 "nbformat_minor": 5
}
